{
  "nbformat": 4,
  "nbformat_minor": 0,
  "metadata": {
    "colab": {
      "provenance": []
    },
    "kernelspec": {
      "name": "python3",
      "display_name": "Python 3"
    },
    "language_info": {
      "name": "python"
    }
  },
  "cells": [
    {
      "cell_type": "markdown",
      "source": [
        "### Name: Khushi Sonkusare\n",
        "### Batch: A1\n",
        "### Roll no.: 08\n",
        "\n",
        "## PRACTICAL 03: Candidate Elimination Algorithm\n"
      ],
      "metadata": {
        "id": "sI9dYzMKrk2C"
      }
    },
    {
      "cell_type": "markdown",
      "source": [
        "#### IMPORTING AND PRINTING DATASET"
      ],
      "metadata": {
        "id": "POS2gNE1oxal"
      }
    },
    {
      "cell_type": "code",
      "source": [
        "import os\n",
        "from google.colab import drive\n",
        "\n",
        "drive.mount('/content/drive')\n",
        "\n",
        "file_path = '/content/drive/My Drive/SEM VI/ML Lab/ENJOYSPORT(1).csv'\n",
        "\n",
        "if os.path.exists(file_path):\n",
        "  with open(file_path, 'r') as f:\n",
        "    contents = f.read()\n",
        "    print(contents)\n",
        "else:\n",
        "  print(f\"Error: File not found at {file_path}\")"
      ],
      "metadata": {
        "colab": {
          "base_uri": "https://localhost:8080/"
        },
        "id": "_RxzcI4xlpHN",
        "outputId": "664c309e-9a20-4474-bee4-254b28889839"
      },
      "execution_count": 2,
      "outputs": [
        {
          "output_type": "stream",
          "name": "stdout",
          "text": [
            "Mounted at /content/drive\n",
            "Sky,AirTemp,Humidity,Wind,Water,Forecast,EnjoySport\n",
            "Sunny,Warm,Normal,Strong,Warm,Same,1\n",
            "Sunny,Warm,High,Strong,Warm,Same,1\n",
            "Rainy,Cold,High,Strong,Warm,Change,0\n",
            "Sunny,Warm,High,Strong,Cool,Change,1\n"
          ]
        }
      ]
    },
    {
      "cell_type": "markdown",
      "source": [
        "#### Converting dataset to arrays"
      ],
      "metadata": {
        "id": "ZQ5DW0Q9ukfF"
      }
    },
    {
      "cell_type": "code",
      "source": [
        "def train(concept, target):\n",
        "  hypothesis_h = ['$', '$', '$', '$', '$', '$']\n",
        "  print(\"h0: \",hypothesis_h)\n",
        "\n",
        "  for i, val in enumerate(target):\n",
        "    if val == 1 :\n",
        "      for j in range(len(hypothesis_h)):\n",
        "        if hypothesis_h[j] == '$':\n",
        "          hypothesis_h[j] = concept[i][j]\n",
        "        elif hypothesis_h[j] != concept[i][j]:\n",
        "          hypothesis_h[j] = '?'\n",
        "        else:\n",
        "          pass\n",
        "    print(f\"h{i + 1}: \",hypothesis_h)\n",
        "\n",
        "  return hypothesis_h"
      ],
      "metadata": {
        "id": "p59uKmUlqNVU"
      },
      "execution_count": 3,
      "outputs": []
    },
    {
      "cell_type": "code",
      "source": [
        "import numpy as np\n",
        "import pandas as pd"
      ],
      "metadata": {
        "id": "sDW6NLIvnrzG"
      },
      "execution_count": 4,
      "outputs": []
    },
    {
      "cell_type": "code",
      "source": [
        "dataset = pd.read_csv(file_path)\n",
        "print(dataset)"
      ],
      "metadata": {
        "colab": {
          "base_uri": "https://localhost:8080/"
        },
        "id": "nwe1_KreouCd",
        "outputId": "4e736621-9b69-458c-a76e-1caf0cfdcf99"
      },
      "execution_count": 5,
      "outputs": [
        {
          "output_type": "stream",
          "name": "stdout",
          "text": [
            "     Sky AirTemp Humidity    Wind Water Forecast  EnjoySport\n",
            "0  Sunny    Warm   Normal  Strong  Warm     Same           1\n",
            "1  Sunny    Warm     High  Strong  Warm     Same           1\n",
            "2  Rainy    Cold     High  Strong  Warm   Change           0\n",
            "3  Sunny    Warm     High  Strong  Cool   Change           1\n"
          ]
        }
      ]
    },
    {
      "cell_type": "code",
      "source": [
        "concept = np.array(dataset)[:,:-1]\n",
        "print(concept)"
      ],
      "metadata": {
        "colab": {
          "base_uri": "https://localhost:8080/"
        },
        "id": "AGtVOcwwpVuG",
        "outputId": "f2f0515b-6f43-4751-a835-442ee67c7141"
      },
      "execution_count": 6,
      "outputs": [
        {
          "output_type": "stream",
          "name": "stdout",
          "text": [
            "[['Sunny' 'Warm' 'Normal' 'Strong' 'Warm' 'Same']\n",
            " ['Sunny' 'Warm' 'High' 'Strong' 'Warm' 'Same']\n",
            " ['Rainy' 'Cold' 'High' 'Strong' 'Warm' 'Change']\n",
            " ['Sunny' 'Warm' 'High' 'Strong' 'Cool' 'Change']]\n"
          ]
        }
      ]
    },
    {
      "cell_type": "code",
      "source": [
        "target = np.array(dataset)[:,-1]\n",
        "print(target)"
      ],
      "metadata": {
        "colab": {
          "base_uri": "https://localhost:8080/"
        },
        "id": "RRNWQLPcp9Ws",
        "outputId": "63d24276-78c5-4f4b-d18d-774ced4eae59"
      },
      "execution_count": 7,
      "outputs": [
        {
          "output_type": "stream",
          "name": "stdout",
          "text": [
            "[1 1 0 1]\n"
          ]
        }
      ]
    },
    {
      "cell_type": "code",
      "source": [
        "def candidate_elimination(concepts, target):\n",
        "    specific_hypothesis = concepts[0].copy()\n",
        "    general_hypotheses = [['?' for _ in range(len(specific_hypothesis))]]\n",
        "\n",
        "    for i, val in enumerate(target):\n",
        "        if val == 1:\n",
        "            for j in range(len(specific_hypothesis)):\n",
        "                if specific_hypothesis[j] != concepts[i][j]:\n",
        "                    specific_hypothesis[j] = '?'\n",
        "            general_hypotheses = [\n",
        "                h for h in general_hypotheses\n",
        "                if all(h[j] == '?' or h[j] == concepts[i][j] for j in range(len(h)))\n",
        "            ]\n",
        "        else:\n",
        "            new_general_hypotheses = []\n",
        "            for h in general_hypotheses:\n",
        "                for j in range(len(h)):\n",
        "                    if h[j] == '?' and specific_hypothesis[j] != concepts[i][j]:\n",
        "                        new_h = h.copy()\n",
        "                        new_h[j] = specific_hypothesis[j]\n",
        "                        new_general_hypotheses.append(new_h)\n",
        "            general_hypotheses = [\n",
        "                h for h in new_general_hypotheses\n",
        "                if any(h[j] != '?' for j in range(len(h)))\n",
        "            ]\n",
        "\n",
        "        print(f\"Pass {i + 1}:\")\n",
        "        print(f\"Specific Hypothesis: {specific_hypothesis}\")\n",
        "        print(f\"General Hypotheses: {general_hypotheses}\\n\")\n",
        "\n",
        "    return specific_hypothesis, general_hypotheses\n",
        "\n",
        "\n",
        "final_specific, final_general = candidate_elimination(concept, target)\n",
        "final_specific, final_general\n"
      ],
      "metadata": {
        "colab": {
          "base_uri": "https://localhost:8080/"
        },
        "id": "Blzx3LIHNcNV",
        "outputId": "52a0c341-6386-4104-bcc7-4f508eb85daa"
      },
      "execution_count": 23,
      "outputs": [
        {
          "output_type": "stream",
          "name": "stdout",
          "text": [
            "Pass 1:\n",
            "Specific Hypothesis: ['Sunny' 'Warm' '?' 'Strong' '?' '?']\n",
            "General Hypotheses: [['?', '?', '?', '?', '?', '?']]\n",
            "\n",
            "Pass 2:\n",
            "Specific Hypothesis: ['Sunny' 'Warm' '?' 'Strong' '?' '?']\n",
            "General Hypotheses: [['?', '?', '?', '?', '?', '?']]\n",
            "\n",
            "Pass 3:\n",
            "Specific Hypothesis: ['Sunny' 'Warm' '?' 'Strong' '?' '?']\n",
            "General Hypotheses: [['Sunny', '?', '?', '?', '?', '?'], ['?', 'Warm', '?', '?', '?', '?']]\n",
            "\n",
            "Pass 4:\n",
            "Specific Hypothesis: ['Sunny' 'Warm' '?' 'Strong' '?' '?']\n",
            "General Hypotheses: [['Sunny', '?', '?', '?', '?', '?'], ['?', 'Warm', '?', '?', '?', '?']]\n",
            "\n"
          ]
        },
        {
          "output_type": "execute_result",
          "data": {
            "text/plain": [
              "(array(['Sunny', 'Warm', '?', 'Strong', '?', '?'], dtype=object),\n",
              " [['Sunny', '?', '?', '?', '?', '?'], ['?', 'Warm', '?', '?', '?', '?']])"
            ]
          },
          "metadata": {},
          "execution_count": 23
        }
      ]
    },
    {
      "cell_type": "code",
      "source": [],
      "metadata": {
        "id": "PwjZ7tWzPTpS"
      },
      "execution_count": null,
      "outputs": []
    }
  ]
}